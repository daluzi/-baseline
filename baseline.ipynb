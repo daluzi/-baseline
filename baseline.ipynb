{
 "cells": [
  {
   "cell_type": "markdown",
   "id": "e419dbec",
   "metadata": {},
   "source": [
    "# Goodbooks-10k数据集，10000本图书，53424个用户，NCF模型"
   ]
  },
  {
   "cell_type": "code",
   "execution_count": 2,
   "id": "830ccbcf",
   "metadata": {},
   "outputs": [],
   "source": [
    "import numpy as np\n",
    "import pandas as pd\n",
    "import random\n",
    "\n",
    "import torch\n",
    "import torch.nn.functional as F\n",
    "from torch.utils.data import Dataset, DataLoader\n",
    "\n",
    "import os"
   ]
  },
  {
   "cell_type": "code",
   "execution_count": 4,
   "id": "fc3080d8",
   "metadata": {},
   "outputs": [
    {
     "name": "stdout",
     "output_type": "stream",
     "text": [
      "cpu\n"
     ]
    }
   ],
   "source": [
    "seed = 2022\n",
    "np.random.seed(seed)\n",
    "random.seed(seed)\n",
    "BATCH_SIZE = 512\n",
    "\n",
    "hidden_dim = 16\n",
    "epochs = 1\n",
    "device = torch.device('cuda:0') if torch.cuda.is_available() else torch.device('cpu')\n",
    "print(device)"
   ]
  },
  {
   "cell_type": "code",
   "execution_count": 5,
   "id": "5e890b88",
   "metadata": {},
   "outputs": [],
   "source": [
    "df = pd.read_csv(\"./goodbooks-10k/ratings.csv\")"
   ]
  },
  {
   "cell_type": "code",
   "execution_count": 6,
   "id": "a5063631",
   "metadata": {},
   "outputs": [
    {
     "data": {
      "text/html": [
       "<div>\n",
       "<style scoped>\n",
       "    .dataframe tbody tr th:only-of-type {\n",
       "        vertical-align: middle;\n",
       "    }\n",
       "\n",
       "    .dataframe tbody tr th {\n",
       "        vertical-align: top;\n",
       "    }\n",
       "\n",
       "    .dataframe thead th {\n",
       "        text-align: right;\n",
       "    }\n",
       "</style>\n",
       "<table border=\"1\" class=\"dataframe\">\n",
       "  <thead>\n",
       "    <tr style=\"text-align: right;\">\n",
       "      <th></th>\n",
       "      <th>user_id</th>\n",
       "      <th>book_id</th>\n",
       "      <th>rating</th>\n",
       "    </tr>\n",
       "  </thead>\n",
       "  <tbody>\n",
       "    <tr>\n",
       "      <th>0</th>\n",
       "      <td>1</td>\n",
       "      <td>258</td>\n",
       "      <td>5</td>\n",
       "    </tr>\n",
       "    <tr>\n",
       "      <th>1</th>\n",
       "      <td>2</td>\n",
       "      <td>4081</td>\n",
       "      <td>4</td>\n",
       "    </tr>\n",
       "    <tr>\n",
       "      <th>2</th>\n",
       "      <td>2</td>\n",
       "      <td>260</td>\n",
       "      <td>5</td>\n",
       "    </tr>\n",
       "    <tr>\n",
       "      <th>3</th>\n",
       "      <td>2</td>\n",
       "      <td>9296</td>\n",
       "      <td>5</td>\n",
       "    </tr>\n",
       "    <tr>\n",
       "      <th>4</th>\n",
       "      <td>2</td>\n",
       "      <td>2318</td>\n",
       "      <td>3</td>\n",
       "    </tr>\n",
       "  </tbody>\n",
       "</table>\n",
       "</div>"
      ],
      "text/plain": [
       "   user_id  book_id  rating\n",
       "0        1      258       5\n",
       "1        2     4081       4\n",
       "2        2      260       5\n",
       "3        2     9296       5\n",
       "4        2     2318       3"
      ]
     },
     "execution_count": 6,
     "metadata": {},
     "output_type": "execute_result"
    }
   ],
   "source": [
    "df.head()"
   ]
  },
  {
   "cell_type": "code",
   "execution_count": 11,
   "id": "4ac4109a",
   "metadata": {},
   "outputs": [
    {
     "name": "stdout",
     "output_type": "stream",
     "text": [
      "共53424个用户，10000本图书，5976479条记录\n"
     ]
    }
   ],
   "source": [
    "print('共{}个用户，{}本图书，{}条记录'.format(max(df['user_id']), max(df['book_id']), len(df)))"
   ]
  },
  {
   "cell_type": "code",
   "execution_count": 15,
   "id": "3a0b6f48",
   "metadata": {
    "scrolled": true
   },
   "outputs": [
    {
     "data": {
      "text/html": [
       "<div>\n",
       "<style scoped>\n",
       "    .dataframe tbody tr th:only-of-type {\n",
       "        vertical-align: middle;\n",
       "    }\n",
       "\n",
       "    .dataframe tbody tr th {\n",
       "        vertical-align: top;\n",
       "    }\n",
       "\n",
       "    .dataframe thead th {\n",
       "        text-align: right;\n",
       "    }\n",
       "</style>\n",
       "<table border=\"1\" class=\"dataframe\">\n",
       "  <thead>\n",
       "    <tr style=\"text-align: right;\">\n",
       "      <th></th>\n",
       "      <th>user_id</th>\n",
       "      <th>book_id</th>\n",
       "      <th>rating</th>\n",
       "    </tr>\n",
       "  </thead>\n",
       "  <tbody>\n",
       "    <tr>\n",
       "      <th>count</th>\n",
       "      <td>5.976479e+06</td>\n",
       "      <td>5.976479e+06</td>\n",
       "      <td>5.976479e+06</td>\n",
       "    </tr>\n",
       "    <tr>\n",
       "      <th>mean</th>\n",
       "      <td>2.622446e+04</td>\n",
       "      <td>2.006477e+03</td>\n",
       "      <td>3.919866e+00</td>\n",
       "    </tr>\n",
       "    <tr>\n",
       "      <th>std</th>\n",
       "      <td>1.541323e+04</td>\n",
       "      <td>2.468499e+03</td>\n",
       "      <td>9.910868e-01</td>\n",
       "    </tr>\n",
       "    <tr>\n",
       "      <th>min</th>\n",
       "      <td>1.000000e+00</td>\n",
       "      <td>1.000000e+00</td>\n",
       "      <td>1.000000e+00</td>\n",
       "    </tr>\n",
       "    <tr>\n",
       "      <th>25%</th>\n",
       "      <td>1.281300e+04</td>\n",
       "      <td>1.980000e+02</td>\n",
       "      <td>3.000000e+00</td>\n",
       "    </tr>\n",
       "    <tr>\n",
       "      <th>50%</th>\n",
       "      <td>2.593800e+04</td>\n",
       "      <td>8.850000e+02</td>\n",
       "      <td>4.000000e+00</td>\n",
       "    </tr>\n",
       "    <tr>\n",
       "      <th>75%</th>\n",
       "      <td>3.950900e+04</td>\n",
       "      <td>2.973000e+03</td>\n",
       "      <td>5.000000e+00</td>\n",
       "    </tr>\n",
       "    <tr>\n",
       "      <th>max</th>\n",
       "      <td>5.342400e+04</td>\n",
       "      <td>1.000000e+04</td>\n",
       "      <td>5.000000e+00</td>\n",
       "    </tr>\n",
       "  </tbody>\n",
       "</table>\n",
       "</div>"
      ],
      "text/plain": [
       "            user_id       book_id        rating\n",
       "count  5.976479e+06  5.976479e+06  5.976479e+06\n",
       "mean   2.622446e+04  2.006477e+03  3.919866e+00\n",
       "std    1.541323e+04  2.468499e+03  9.910868e-01\n",
       "min    1.000000e+00  1.000000e+00  1.000000e+00\n",
       "25%    1.281300e+04  1.980000e+02  3.000000e+00\n",
       "50%    2.593800e+04  8.850000e+02  4.000000e+00\n",
       "75%    3.950900e+04  2.973000e+03  5.000000e+00\n",
       "max    5.342400e+04  1.000000e+04  5.000000e+00"
      ]
     },
     "execution_count": 15,
     "metadata": {},
     "output_type": "execute_result"
    }
   ],
   "source": [
    "df.describe()"
   ]
  },
  {
   "cell_type": "code",
   "execution_count": 16,
   "id": "962c5084",
   "metadata": {},
   "outputs": [
    {
     "name": "stdout",
     "output_type": "stream",
     "text": [
      "user_id      2\n",
      "book_id    260\n",
      "rating       5\n",
      "Name: 2, dtype: int64\n"
     ]
    }
   ],
   "source": [
    "for index, row in df.iterrows():\n",
    "    if index == 2:\n",
    "        print(row)"
   ]
  },
  {
   "cell_type": "raw",
   "id": "98ed83cd",
   "metadata": {},
   "source": [
    "构建Dataset类\n",
    "构建负样本\n",
    "划分测试集与验证集\n",
    "构建对应的DataLoader"
   ]
  },
  {
   "cell_type": "code",
   "execution_count": 34,
   "id": "f02312f7",
   "metadata": {},
   "outputs": [],
   "source": [
    "import tqdm\n",
    "class Goodbooks(Dataset):\n",
    "    def __init__(self, df, mode='training', negs=99):\n",
    "        super().__init__()\n",
    "        \n",
    "        self.df = df\n",
    "        self.mode = mode\n",
    "        \n",
    "        self.book_nums = max(df['book_id'])+1\n",
    "        self.user_nums = max(df['user_id'])+1\n",
    "        \n",
    "        self._init_dataset()\n",
    "    \n",
    "    def _init_dataset(self):\n",
    "        self.Xs = []\n",
    "        \n",
    "        self.user_book_map = {}\n",
    "        for i in range(self.user_nums):\n",
    "            self.user_book_map[i] = []\n",
    "        \n",
    "        for index, row in self.df.iterrows():\n",
    "            user_id, book_id, rating = row\n",
    "            self.user_book_map[user_id].append(book_id)\n",
    "        \n",
    "        if self.mode == 'training':\n",
    "            for user, items in tqdm.tqdm(self.user_book_map.items()):\n",
    "                for item in items[:-1]:\n",
    "                    self.Xs.append((user, item, 1))\n",
    "                    for _ in range(3):\n",
    "                        while True:\n",
    "                            neg_sample = random.randint(0, self.book_nums - 1)\n",
    "                            if neg_sample not in self.user_book_map[user]:\n",
    "                                self.Xs.append((user, neg_sample, 0))\n",
    "                                break\n",
    "        elif self.mode == 'validation':\n",
    "            for user, items in tqdm.tqdm(self.user_book_map.items()):\n",
    "                if len(items) == 0:\n",
    "                    continue\n",
    "                self.Xs.append((user, items[-1]))\n",
    "    \n",
    "    def __getitem__(self, index):\n",
    "        '''\n",
    "            __getitem__方法也是必须的，该方法支持从0到len(self)的索引\n",
    "        '''\n",
    "        if self.mode == 'training':\n",
    "            user_id, book_id, label = self.Xs[index]\n",
    "            return user_id, book_id, label\n",
    "        elif self.mode == 'validation':\n",
    "            user_id, book_id = self.Xs[index]\n",
    "            negs = list(random.sample(\n",
    "                list(set(range(self.book_nums)) - set(self.user_book_map[user_id])),\n",
    "                k = 99\n",
    "            ))\n",
    "            return user_id, book_id, torch.LongTensor(negs)\n",
    "    \n",
    "    def __len__(self):\n",
    "        '''\n",
    "            继承Dataset类时，需要重写__len__方法，该方法提供了dataset的大小\n",
    "        '''\n",
    "        return len(self.Xs)"
   ]
  },
  {
   "cell_type": "code",
   "execution_count": 35,
   "id": "34302490",
   "metadata": {},
   "outputs": [
    {
     "name": "stderr",
     "output_type": "stream",
     "text": [
      "100%|██████████| 53425/53425 [01:05<00:00, 821.07it/s] \n",
      "100%|██████████| 53425/53425 [00:13<00:00, 3945.48it/s]\n"
     ]
    }
   ],
   "source": [
    "traindataset = Goodbooks(df, 'training')\n",
    "validdataset = Goodbooks(df, 'validation')\n",
    "\n",
    "trainloader = DataLoader(traindataset, batch_size = BATCH_SIZE, shuffle = True, drop_last = False, num_workers = 0)\n",
    "validloader = DataLoader(validdataset, batch_size = BATCH_SIZE, shuffle = True, drop_last = False, num_workers = 0)"
   ]
  },
  {
   "cell_type": "code",
   "execution_count": 36,
   "id": "e70f50c8",
   "metadata": {},
   "outputs": [
    {
     "data": {
      "text/plain": [
       "53425"
      ]
     },
     "execution_count": 36,
     "metadata": {},
     "output_type": "execute_result"
    }
   ],
   "source": [
    "len(traindataset.user_book_map)"
   ]
  },
  {
   "attachments": {},
   "cell_type": "markdown",
   "id": "1e9fcb41",
   "metadata": {},
   "source": [
    "NCF模型由GMF和MLP部分组成\n",
    "![model](./model.png)\n",
    "Embedding layer: 嵌入层，将稀疏的one-hot用户/物品向量转化为稠密的低维向量。\n",
    "GMF layer: 通过传统的矩阵分解算法，将以用户和物品的嵌入向量做内积，有效地提取浅层特征。\n",
    "MLP layer: 通过n层全连接层，提取深层特征。\n",
    "Concatenation layer: 将GMF和MLP输出的结果做concat，结合其中的深层和浅层信息。\n",
    "Output layer: 输出层，输出用户-物品对的最终评分。"
   ]
  },
  {
   "cell_type": "code",
   "execution_count": 37,
   "id": "25d20b07",
   "metadata": {},
   "outputs": [],
   "source": [
    "class NCFModel(torch.nn.Module):\n",
    "    def __init__(self, hidden_dim, user_num, item_num, mlp_layer_num=4, weight_decay=1e-5, dropout=0.5):\n",
    "        super().__init__()\n",
    "        \n",
    "        self.hidden_dim = hidden_dim\n",
    "        self.user_num = user_num\n",
    "        self.item_num = item_num\n",
    "        self.mlp_layer_num = mlp_layer_num\n",
    "        self.weight_decay = weight_decay\n",
    "        self.dropout = dropout\n",
    "        \n",
    "        self.mlp_user_embedding = torch.nn.Embedding(user_num, hidden_dim * (2 ** (self.mlp_layer_num - 1)))\n",
    "        self.mlp_item_embedding = torch.nn.Embedding(item_num, hidden_dim * (2 ** (self.mlp_layer_num - 1)))\n",
    "        \n",
    "        self.gmf_user_embedding = torch.nn.Embedding(user_num, hidden_dim)\n",
    "        self.gmf_item_embedding = torch.nn.Embedding(item_num, hidden_dim)\n",
    "        \n",
    "        mlp_layers = []\n",
    "        input_size = int(hidden_dim * (2 ** self.mlp_layer_num))\n",
    "        for i in range(self.mlp_layer_num):\n",
    "            mlp_layers.append(torch.nn.Linear(int(input_size), int(input_size / 2)))\n",
    "            mlp_layers.append(torch.nn.Dropout(self.dropout))\n",
    "            mlp_layers.append(torch.nn.ReLU())\n",
    "            input_size /= 2\n",
    "        self.mlp_layers = torch.nn.Sequential(*mlp_layers)\n",
    "        \n",
    "        self.output_layer = torch.nn.Linear(2 * self.hidden_dim, 1)\n",
    "        \n",
    "    def forward(self, user, item):\n",
    "        user_gmf_embedding = self.gmf_user_embedding(user)\n",
    "        item_gmf_embedding = self.gmf_item_embedding(item)\n",
    "        \n",
    "        user_mlp_embedding = self.mlp_user_embedding(user)\n",
    "        item_mlp_embedding = self.mlp_item_embedding(item)\n",
    "        \n",
    "        gmf_output = user_gmf_embedding * item_gmf_embedding\n",
    "        \n",
    "        mlp_input = torch.cat([user_mlp_embedding, item_mlp_embedding], dim=-1)\n",
    "        mlp_output = self.mlp_layers(mlp_input)\n",
    "        \n",
    "        output = torch.sigmoid(self.output_layer(torch.cat([gmf_output, mlp_output], dim=-1))).squeeze(-1)\n",
    "        \n",
    "        return output\n",
    "    \n",
    "    def predict(self, user, item):\n",
    "        self.eval() # 评估模式，和torch.no_grad()配合使用\n",
    "        with torch.no_grad():\n",
    "            user_gmf_embedding = self.gmf_user_embedding(user)\n",
    "            item_gmf_embedding = self.gmf_item_embedding(item)\n",
    "            \n",
    "            user_mlp_embedding = self.mlp_user_embedding(user)\n",
    "            item_mlp_embedding = self.mlp_item_embedding(item)\n",
    "        \n",
    "            gmf_output = user_gmf_embedding.unsqueeze(1) * item_gmf_embedding\n",
    "            \n",
    "            user_mlp_embedding = user_mlp_embedding.unsqueeze(1).expand(-1, item_mlp_embedding.shape[1], -1)\n",
    "            mlp_input = torch.cat([user_mlp_embedding, item_mlp_embedding], dim=-1)\n",
    "            mlp_output = self.mlp_layers(mlp_input)\n",
    "        \n",
    "        output = torch.sigmoid(self.output_layer(torch.cat([gmf_output, mlp_output], dim=-1))).squeeze(-1)\n",
    "        return output"
   ]
  },
  {
   "cell_type": "markdown",
   "id": "5f1c1c29",
   "metadata": {},
   "source": [
    "训练模型，固定步数会计算准确率\n",
    "模型保存\n",
    "可视化训练过程，对比训练机和验证集的准确率"
   ]
  },
  {
   "cell_type": "code",
   "execution_count": 39,
   "id": "116ae54c",
   "metadata": {},
   "outputs": [
    {
     "name": "stdout",
     "output_type": "stream",
     "text": [
      "Epoch 0 finished, average loss 0.4613660700745131, hits@20 0.36268343815513626\n"
     ]
    }
   ],
   "source": [
    "model = NCFModel(hidden_dim, traindataset.user_nums, traindataset.book_nums).to(device)\n",
    "optimizer = torch.optim.Adam(model.parameters(), lr=1e-3)\n",
    "crit = torch.nn.BCELoss()\n",
    "\n",
    "loss_for_plot = []\n",
    "hits_for_plot = []\n",
    "\n",
    "for epoch in range(epochs):\n",
    "    \n",
    "    losses = []\n",
    "    for index, data in enumerate(trainloader):\n",
    "        user, item, label = data\n",
    "        user, item, label = user.to(device), item.to(device), label.to(device).float()\n",
    "        y_ = model(user, item).squeeze()\n",
    "        \n",
    "        loss = crit(y_, label)\n",
    "        optimizer.zero_grad()\n",
    "        loss.backward()\n",
    "        optimizer.step()\n",
    "        \n",
    "        losses.append(loss.detach().cpu().item())\n",
    "        \n",
    "    hits = []\n",
    "    for index, data in enumerate(validloader):\n",
    "        user, pos, neg = data\n",
    "        pos = pos.unsqueeze(1)\n",
    "        all_data = torch.cat([pos, neg], dim=-1)\n",
    "        output = model.predict(user.to(device), all_data.to(device)).detach().cpu()\n",
    "        \n",
    "        for batch in output:\n",
    "            if 0 not in (-batch).argsort()[:10]:\n",
    "                hits.append(0)\n",
    "            else:\n",
    "                hits.append(1)\n",
    "    print('Epoch {} finished, average loss {}, hits@20 {}'.format(epoch, sum(losses)/len(losses), sum(hits)/len(hits)))\n",
    "    loss_for_plot.append(sum(losses)/len(losses))\n",
    "    hits_for_plot.append(sum(hits)/len(hits))"
   ]
  },
  {
   "cell_type": "code",
   "execution_count": 40,
   "id": "8632f12c",
   "metadata": {},
   "outputs": [],
   "source": [
    "# 模型保存\n",
    "torch.save(model.state_dict(), './model.h5')"
   ]
  },
  {
   "cell_type": "code",
   "execution_count": 41,
   "id": "ed1da5bc",
   "metadata": {},
   "outputs": [
    {
     "ename": "ModuleNotFoundError",
     "evalue": "No module named 'matplotlib'",
     "output_type": "error",
     "traceback": [
      "\u001b[0;31m---------------------------------------------------------------------------\u001b[0m",
      "\u001b[0;31mModuleNotFoundError\u001b[0m                       Traceback (most recent call last)",
      "\u001b[0;32m<ipython-input-41-034127e1050e>\u001b[0m in \u001b[0;36m<module>\u001b[0;34m\u001b[0m\n\u001b[0;32m----> 1\u001b[0;31m \u001b[0;32mimport\u001b[0m \u001b[0mmatplotlib\u001b[0m\u001b[0;34m.\u001b[0m\u001b[0mpyplot\u001b[0m \u001b[0;32mas\u001b[0m \u001b[0mplt\u001b[0m\u001b[0;34m\u001b[0m\u001b[0;34m\u001b[0m\u001b[0m\n\u001b[0m\u001b[1;32m      2\u001b[0m \u001b[0;34m\u001b[0m\u001b[0m\n\u001b[1;32m      3\u001b[0m \u001b[0mx\u001b[0m \u001b[0;34m=\u001b[0m \u001b[0mlist\u001b[0m\u001b[0;34m(\u001b[0m\u001b[0mrange\u001b[0m\u001b[0;34m(\u001b[0m\u001b[0;36m1\u001b[0m\u001b[0;34m,\u001b[0m \u001b[0mlen\u001b[0m\u001b[0;34m(\u001b[0m\u001b[0mhits_for_plot\u001b[0m\u001b[0;34m)\u001b[0m \u001b[0;34m+\u001b[0m \u001b[0;36m1\u001b[0m\u001b[0;34m)\u001b[0m\u001b[0;34m)\u001b[0m\u001b[0;34m\u001b[0m\u001b[0;34m\u001b[0m\u001b[0m\n\u001b[1;32m      4\u001b[0m \u001b[0mplt\u001b[0m\u001b[0;34m.\u001b[0m\u001b[0msubplot\u001b[0m\u001b[0;34m(\u001b[0m\u001b[0;36m1\u001b[0m\u001b[0;34m,\u001b[0m\u001b[0;36m2\u001b[0m\u001b[0;34m,\u001b[0m\u001b[0;36m1\u001b[0m\u001b[0;34m)\u001b[0m\u001b[0;34m\u001b[0m\u001b[0;34m\u001b[0m\u001b[0m\n\u001b[1;32m      5\u001b[0m \u001b[0mplt\u001b[0m\u001b[0;34m.\u001b[0m\u001b[0mxlabel\u001b[0m\u001b[0;34m(\u001b[0m\u001b[0;34m'epochs'\u001b[0m\u001b[0;34m)\u001b[0m\u001b[0;34m\u001b[0m\u001b[0;34m\u001b[0m\u001b[0m\n",
      "\u001b[0;31mModuleNotFoundError\u001b[0m: No module named 'matplotlib'"
     ]
    }
   ],
   "source": [
    "import matplotlib.pyplot as plt\n",
    "\n",
    "x = list(range(1, len(hits_for_plot) + 1))\n",
    "plt.subplot(1,2,1)\n",
    "plt.xlabel('epochs')\n",
    "plt.ylabel('loss')\n",
    "plt.plot(x, loss_for_plot, 'r')\n",
    "\n",
    "plt.subplot(1,2,2)\n",
    "plt.xlabel('epochs')\n",
    "plt.ylabel('acc')\n",
    "plt.plot(x, hits_for_plot, 'r')\n",
    "\n",
    "plt.show()"
   ]
  },
  {
   "cell_type": "code",
   "execution_count": null,
   "id": "335a0385",
   "metadata": {},
   "outputs": [],
   "source": []
  }
 ],
 "metadata": {
  "kernelspec": {
   "display_name": "Python 3",
   "language": "python",
   "name": "python3"
  },
  "language_info": {
   "codemirror_mode": {
    "name": "ipython",
    "version": 3
   },
   "file_extension": ".py",
   "mimetype": "text/x-python",
   "name": "python",
   "nbconvert_exporter": "python",
   "pygments_lexer": "ipython3",
   "version": "3.6.10"
  }
 },
 "nbformat": 4,
 "nbformat_minor": 5
}
